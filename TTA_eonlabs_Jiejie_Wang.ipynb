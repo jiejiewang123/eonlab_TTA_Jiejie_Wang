{
 "cells": [
  {
   "attachments": {},
   "cell_type": "markdown",
   "id": "a8a71fa6",
   "metadata": {},
   "source": [
    "### Final result( named as 'final_hourly' in this notebook) was saved as a new csv file 'hourly_result.csv'(Please refer to the end of the notebook for the visualization of the result) \n",
    "\n",
    "### Solutions summary:\n",
    "1. Load data with pandas dataframe and visualize data\n",
    "2. calculate ratio of each week's normalized value within each month in 'weekly_data.csv' and get the actual comparable based on monthly value in 'monthly_data.csv';\n",
    "3. Likewise, calculate ratio of each hour's normalized value within each week in 'hourly_data.csv' and get the actual comparable based on weekly value in 'weekly_data.csv'; ---- This is the final result."
   ]
  },
  {
   "cell_type": "code",
   "execution_count": 1,
   "id": "1b848667",
   "metadata": {},
   "outputs": [],
   "source": [
    "# import packages\n",
    "import pandas as pd\n",
    "import numpy as np\n",
    "import warnings\n",
    "warnings.filterwarnings('ignore')"
   ]
  },
  {
   "cell_type": "code",
   "execution_count": 2,
   "id": "126a9e18",
   "metadata": {},
   "outputs": [],
   "source": [
    "# load data\n",
    "hourly_raw = pd.read_csv('hourly_data.csv')\n",
    "weekly_raw = pd.read_csv('weekly_data.csv')\n",
    "monthly_raw = pd.read_csv('monthly_data.csv')"
   ]
  },
  {
   "cell_type": "code",
   "execution_count": 15,
   "id": "c1911405",
   "metadata": {},
   "outputs": [
    {
     "data": {
      "text/html": [
       "<div>\n",
       "<style scoped>\n",
       "    .dataframe tbody tr th:only-of-type {\n",
       "        vertical-align: middle;\n",
       "    }\n",
       "\n",
       "    .dataframe tbody tr th {\n",
       "        vertical-align: top;\n",
       "    }\n",
       "\n",
       "    .dataframe thead th {\n",
       "        text-align: right;\n",
       "    }\n",
       "</style>\n",
       "<table border=\"1\" class=\"dataframe\">\n",
       "  <thead>\n",
       "    <tr style=\"text-align: right;\">\n",
       "      <th></th>\n",
       "      <th>time_hour</th>\n",
       "      <th>value_hour</th>\n",
       "      <th>date</th>\n",
       "    </tr>\n",
       "  </thead>\n",
       "  <tbody>\n",
       "    <tr>\n",
       "      <th>0</th>\n",
       "      <td>1483228800</td>\n",
       "      <td>30</td>\n",
       "      <td>2017-01-01 00:00:00</td>\n",
       "    </tr>\n",
       "    <tr>\n",
       "      <th>1</th>\n",
       "      <td>1483232400</td>\n",
       "      <td>34</td>\n",
       "      <td>2017-01-01 01:00:00</td>\n",
       "    </tr>\n",
       "    <tr>\n",
       "      <th>2</th>\n",
       "      <td>1483236000</td>\n",
       "      <td>33</td>\n",
       "      <td>2017-01-01 02:00:00</td>\n",
       "    </tr>\n",
       "    <tr>\n",
       "      <th>3</th>\n",
       "      <td>1483239600</td>\n",
       "      <td>43</td>\n",
       "      <td>2017-01-01 03:00:00</td>\n",
       "    </tr>\n",
       "    <tr>\n",
       "      <th>4</th>\n",
       "      <td>1483243200</td>\n",
       "      <td>32</td>\n",
       "      <td>2017-01-01 04:00:00</td>\n",
       "    </tr>\n",
       "  </tbody>\n",
       "</table>\n",
       "</div>"
      ],
      "text/plain": [
       "    time_hour  value_hour                date\n",
       "0  1483228800          30 2017-01-01 00:00:00\n",
       "1  1483232400          34 2017-01-01 01:00:00\n",
       "2  1483236000          33 2017-01-01 02:00:00\n",
       "3  1483239600          43 2017-01-01 03:00:00\n",
       "4  1483243200          32 2017-01-01 04:00:00"
      ]
     },
     "execution_count": 15,
     "metadata": {},
     "output_type": "execute_result"
    }
   ],
   "source": [
    "# visualize data\n",
    "hourly_raw.head() # comparable within a week"
   ]
  },
  {
   "cell_type": "code",
   "execution_count": 16,
   "id": "d41aca3b",
   "metadata": {},
   "outputs": [
    {
     "data": {
      "text/html": [
       "<div>\n",
       "<style scoped>\n",
       "    .dataframe tbody tr th:only-of-type {\n",
       "        vertical-align: middle;\n",
       "    }\n",
       "\n",
       "    .dataframe tbody tr th {\n",
       "        vertical-align: top;\n",
       "    }\n",
       "\n",
       "    .dataframe thead th {\n",
       "        text-align: right;\n",
       "    }\n",
       "</style>\n",
       "<table border=\"1\" class=\"dataframe\">\n",
       "  <thead>\n",
       "    <tr style=\"text-align: right;\">\n",
       "      <th></th>\n",
       "      <th>time_week</th>\n",
       "      <th>value_week</th>\n",
       "      <th>date</th>\n",
       "    </tr>\n",
       "  </thead>\n",
       "  <tbody>\n",
       "    <tr>\n",
       "      <th>0</th>\n",
       "      <td>1483228800</td>\n",
       "      <td>100</td>\n",
       "      <td>2017-01-01</td>\n",
       "    </tr>\n",
       "    <tr>\n",
       "      <th>1</th>\n",
       "      <td>1483833600</td>\n",
       "      <td>84</td>\n",
       "      <td>2017-01-08</td>\n",
       "    </tr>\n",
       "    <tr>\n",
       "      <th>2</th>\n",
       "      <td>1484438400</td>\n",
       "      <td>63</td>\n",
       "      <td>2017-01-15</td>\n",
       "    </tr>\n",
       "    <tr>\n",
       "      <th>3</th>\n",
       "      <td>1485043200</td>\n",
       "      <td>56</td>\n",
       "      <td>2017-01-22</td>\n",
       "    </tr>\n",
       "    <tr>\n",
       "      <th>4</th>\n",
       "      <td>1485648000</td>\n",
       "      <td>60</td>\n",
       "      <td>2017-01-29</td>\n",
       "    </tr>\n",
       "  </tbody>\n",
       "</table>\n",
       "</div>"
      ],
      "text/plain": [
       "    time_week  value_week       date\n",
       "0  1483228800         100 2017-01-01\n",
       "1  1483833600          84 2017-01-08\n",
       "2  1484438400          63 2017-01-15\n",
       "3  1485043200          56 2017-01-22\n",
       "4  1485648000          60 2017-01-29"
      ]
     },
     "execution_count": 16,
     "metadata": {},
     "output_type": "execute_result"
    }
   ],
   "source": [
    "weekly_raw.head() #comparable within a month"
   ]
  },
  {
   "cell_type": "code",
   "execution_count": 17,
   "id": "e3238823",
   "metadata": {},
   "outputs": [
    {
     "data": {
      "text/html": [
       "<div>\n",
       "<style scoped>\n",
       "    .dataframe tbody tr th:only-of-type {\n",
       "        vertical-align: middle;\n",
       "    }\n",
       "\n",
       "    .dataframe tbody tr th {\n",
       "        vertical-align: top;\n",
       "    }\n",
       "\n",
       "    .dataframe thead th {\n",
       "        text-align: right;\n",
       "    }\n",
       "</style>\n",
       "<table border=\"1\" class=\"dataframe\">\n",
       "  <thead>\n",
       "    <tr style=\"text-align: right;\">\n",
       "      <th></th>\n",
       "      <th>time_month</th>\n",
       "      <th>value_month</th>\n",
       "      <th>date</th>\n",
       "    </tr>\n",
       "  </thead>\n",
       "  <tbody>\n",
       "    <tr>\n",
       "      <th>0</th>\n",
       "      <td>1483228800</td>\n",
       "      <td>6</td>\n",
       "      <td>2017-01-01</td>\n",
       "    </tr>\n",
       "    <tr>\n",
       "      <th>1</th>\n",
       "      <td>1485907200</td>\n",
       "      <td>6</td>\n",
       "      <td>2017-02-01</td>\n",
       "    </tr>\n",
       "    <tr>\n",
       "      <th>2</th>\n",
       "      <td>1488326400</td>\n",
       "      <td>7</td>\n",
       "      <td>2017-03-01</td>\n",
       "    </tr>\n",
       "    <tr>\n",
       "      <th>3</th>\n",
       "      <td>1491004800</td>\n",
       "      <td>6</td>\n",
       "      <td>2017-04-01</td>\n",
       "    </tr>\n",
       "    <tr>\n",
       "      <th>4</th>\n",
       "      <td>1493596800</td>\n",
       "      <td>15</td>\n",
       "      <td>2017-05-01</td>\n",
       "    </tr>\n",
       "  </tbody>\n",
       "</table>\n",
       "</div>"
      ],
      "text/plain": [
       "   time_month  value_month       date\n",
       "0  1483228800            6 2017-01-01\n",
       "1  1485907200            6 2017-02-01\n",
       "2  1488326400            7 2017-03-01\n",
       "3  1491004800            6 2017-04-01\n",
       "4  1493596800           15 2017-05-01"
      ]
     },
     "execution_count": 17,
     "metadata": {},
     "output_type": "execute_result"
    }
   ],
   "source": [
    "monthly_raw.head() # comparable monthly"
   ]
  },
  {
   "cell_type": "code",
   "execution_count": 8,
   "id": "0ef186da",
   "metadata": {},
   "outputs": [
    {
     "name": "stdout",
     "output_type": "stream",
     "text": [
      "Monthly_raw 'date' column type is <class 'str'>\n",
      "Weekly_raw 'date' column type is <class 'str'>\n",
      "Hourly_raw 'date' column type is <class 'str'>\n"
     ]
    }
   ],
   "source": [
    "# check datatype of date column in monthly_raw, weekly_raw, hourly_raw\n",
    "print(f\"Monthly_raw 'date' column type is {type(monthly_raw.date[0])}\")\n",
    "print(f\"Weekly_raw 'date' column type is {type(weekly_raw.date[0])}\")\n",
    "print(f\"Hourly_raw 'date' column type is {type(hourly_raw.date[0])}\")"
   ]
  },
  {
   "cell_type": "code",
   "execution_count": 12,
   "id": "a359c318",
   "metadata": {},
   "outputs": [],
   "source": [
    "# convert date column to datetime type\n",
    "monthly_raw['date'] = pd.to_datetime(monthly_raw.date)\n",
    "hourly_raw['date'] = pd.to_datetime(hourly_raw.date)\n",
    "weekly_raw['date'] = pd.to_datetime(weekly_raw.date)"
   ]
  },
  {
   "cell_type": "code",
   "execution_count": 93,
   "id": "2121dc48",
   "metadata": {},
   "outputs": [
    {
     "name": "stdout",
     "output_type": "stream",
     "text": [
      "After conversion, Monthly_raw 'date' column type is <class 'pandas._libs.tslibs.timestamps.Timestamp'>\n",
      "After conversion, Weekly_raw 'date' column type is <class 'pandas._libs.tslibs.timestamps.Timestamp'>\n",
      "After conversion, Hourly_raw 'date' column type is <class 'pandas._libs.tslibs.timestamps.Timestamp'>\n"
     ]
    }
   ],
   "source": [
    "# check datatype of date column in monthly_raw, weekly_raw, hourly_raw\n",
    "print(f\"After conversion, Monthly_raw 'date' column type is {type(monthly_raw.date[0])}\")\n",
    "print(f\"After conversion, Weekly_raw 'date' column type is {type(weekly_raw.date[0])}\")\n",
    "print(f\"After conversion, Hourly_raw 'date' column type is {type(hourly_raw.date[0])}\")"
   ]
  },
  {
   "cell_type": "code",
   "execution_count": 18,
   "id": "289828ec",
   "metadata": {},
   "outputs": [
    {
     "data": {
      "text/plain": [
       "time_hour     0\n",
       "value_hour    0\n",
       "date          0\n",
       "dtype: int64"
      ]
     },
     "execution_count": 18,
     "metadata": {},
     "output_type": "execute_result"
    }
   ],
   "source": [
    "# check missing values\n",
    "hourly_raw.isnull().sum()"
   ]
  },
  {
   "cell_type": "code",
   "execution_count": 19,
   "id": "9a6eeeba",
   "metadata": {},
   "outputs": [
    {
     "data": {
      "text/plain": [
       "time_week     0\n",
       "value_week    0\n",
       "date          0\n",
       "dtype: int64"
      ]
     },
     "execution_count": 19,
     "metadata": {},
     "output_type": "execute_result"
    }
   ],
   "source": [
    "weekly_raw.isnull().sum()"
   ]
  },
  {
   "cell_type": "code",
   "execution_count": 20,
   "id": "05f53ff0",
   "metadata": {},
   "outputs": [
    {
     "data": {
      "text/plain": [
       "time_month     0\n",
       "value_month    0\n",
       "date           0\n",
       "dtype: int64"
      ]
     },
     "execution_count": 20,
     "metadata": {},
     "output_type": "execute_result"
    }
   ],
   "source": [
    "monthly_raw.isnull().sum()"
   ]
  },
  {
   "cell_type": "markdown",
   "id": "8e106631",
   "metadata": {},
   "source": [
    "#### There is no missing values"
   ]
  },
  {
   "cell_type": "markdown",
   "id": "e6f66632",
   "metadata": {},
   "source": [
    "## Step 1: Since in monthly_raw dataframe all values are comparable, calculate comparable weekly values based on monthly_raw and weekly_raw\n"
   ]
  },
  {
   "cell_type": "code",
   "execution_count": 46,
   "id": "27ceb207",
   "metadata": {},
   "outputs": [],
   "source": [
    "# extract values and date from weekly_raw\n",
    "weekly_values = weekly_raw.value_week\n",
    "weekly_values.index = weekly_raw.date\n",
    "weekly_values  = pd.DataFrame(weekly_values)"
   ]
  },
  {
   "cell_type": "code",
   "execution_count": 47,
   "id": "ced8555c",
   "metadata": {},
   "outputs": [],
   "source": [
    "# get total normalized value of each month from weekly_raw \n",
    "weekly_total = weekly_values.resample('M').sum() "
   ]
  },
  {
   "cell_type": "code",
   "execution_count": 48,
   "id": "0ad120b9",
   "metadata": {},
   "outputs": [],
   "source": [
    "weekly_total = pd.DataFrame(weekly_total).reset_index()\n",
    "weekly_total.columns = ['weekly_date', 'value_sum_week'] # rename columns"
   ]
  },
  {
   "cell_type": "code",
   "execution_count": 49,
   "id": "ce466d1f",
   "metadata": {},
   "outputs": [
    {
     "data": {
      "text/html": [
       "<div>\n",
       "<style scoped>\n",
       "    .dataframe tbody tr th:only-of-type {\n",
       "        vertical-align: middle;\n",
       "    }\n",
       "\n",
       "    .dataframe tbody tr th {\n",
       "        vertical-align: top;\n",
       "    }\n",
       "\n",
       "    .dataframe thead th {\n",
       "        text-align: right;\n",
       "    }\n",
       "</style>\n",
       "<table border=\"1\" class=\"dataframe\">\n",
       "  <thead>\n",
       "    <tr style=\"text-align: right;\">\n",
       "      <th></th>\n",
       "      <th>weekly_date</th>\n",
       "      <th>value_sum_week</th>\n",
       "    </tr>\n",
       "  </thead>\n",
       "  <tbody>\n",
       "    <tr>\n",
       "      <th>0</th>\n",
       "      <td>2017-01-31</td>\n",
       "      <td>363</td>\n",
       "    </tr>\n",
       "    <tr>\n",
       "      <th>1</th>\n",
       "      <td>2017-02-28</td>\n",
       "      <td>282</td>\n",
       "    </tr>\n",
       "    <tr>\n",
       "      <th>2</th>\n",
       "      <td>2017-03-31</td>\n",
       "      <td>331</td>\n",
       "    </tr>\n",
       "    <tr>\n",
       "      <th>3</th>\n",
       "      <td>2017-04-30</td>\n",
       "      <td>372</td>\n",
       "    </tr>\n",
       "    <tr>\n",
       "      <th>4</th>\n",
       "      <td>2017-05-31</td>\n",
       "      <td>270</td>\n",
       "    </tr>\n",
       "    <tr>\n",
       "      <th>...</th>\n",
       "      <td>...</td>\n",
       "      <td>...</td>\n",
       "    </tr>\n",
       "    <tr>\n",
       "      <th>63</th>\n",
       "      <td>2022-04-30</td>\n",
       "      <td>98</td>\n",
       "    </tr>\n",
       "    <tr>\n",
       "      <th>64</th>\n",
       "      <td>2022-05-31</td>\n",
       "      <td>170</td>\n",
       "    </tr>\n",
       "    <tr>\n",
       "      <th>65</th>\n",
       "      <td>2022-06-30</td>\n",
       "      <td>269</td>\n",
       "    </tr>\n",
       "    <tr>\n",
       "      <th>66</th>\n",
       "      <td>2022-07-31</td>\n",
       "      <td>221</td>\n",
       "    </tr>\n",
       "    <tr>\n",
       "      <th>67</th>\n",
       "      <td>2022-08-31</td>\n",
       "      <td>99</td>\n",
       "    </tr>\n",
       "  </tbody>\n",
       "</table>\n",
       "<p>68 rows × 2 columns</p>\n",
       "</div>"
      ],
      "text/plain": [
       "   weekly_date  value_sum_week\n",
       "0   2017-01-31             363\n",
       "1   2017-02-28             282\n",
       "2   2017-03-31             331\n",
       "3   2017-04-30             372\n",
       "4   2017-05-31             270\n",
       "..         ...             ...\n",
       "63  2022-04-30              98\n",
       "64  2022-05-31             170\n",
       "65  2022-06-30             269\n",
       "66  2022-07-31             221\n",
       "67  2022-08-31              99\n",
       "\n",
       "[68 rows x 2 columns]"
      ]
     },
     "execution_count": 49,
     "metadata": {},
     "output_type": "execute_result"
    }
   ],
   "source": [
    "weekly_total # Note: weekly_date is the last day of the month after resampling by month"
   ]
  },
  {
   "cell_type": "code",
   "execution_count": 50,
   "id": "161b2f85",
   "metadata": {},
   "outputs": [],
   "source": [
    "# join dataframe weekly_total and weekly_raw to get total normalized value of each month\n",
    "weekly_df = pd.merge(weekly_raw.assign(grouper=weekly_raw['date'].dt.to_period('M')),\n",
    "               weekly_total.assign(grouper=weekly_total['weekly_date'].dt.to_period('M')),\n",
    "               how='left', on='grouper')"
   ]
  },
  {
   "cell_type": "code",
   "execution_count": 51,
   "id": "df7e6049",
   "metadata": {},
   "outputs": [],
   "source": [
    "# get the value ratio of each week within each month\n",
    "weekly_df['ratio_within_month'] = weekly_df['value_week'] / weekly_df['value_sum_week']"
   ]
  },
  {
   "cell_type": "code",
   "execution_count": 52,
   "id": "4cecdb4e",
   "metadata": {},
   "outputs": [],
   "source": [
    "weekly_df = weekly_df.drop(['grouper'], axis = 1) # drop grouper"
   ]
  },
  {
   "cell_type": "code",
   "execution_count": 53,
   "id": "aae2eff4",
   "metadata": {},
   "outputs": [
    {
     "data": {
      "text/html": [
       "<div>\n",
       "<style scoped>\n",
       "    .dataframe tbody tr th:only-of-type {\n",
       "        vertical-align: middle;\n",
       "    }\n",
       "\n",
       "    .dataframe tbody tr th {\n",
       "        vertical-align: top;\n",
       "    }\n",
       "\n",
       "    .dataframe thead th {\n",
       "        text-align: right;\n",
       "    }\n",
       "</style>\n",
       "<table border=\"1\" class=\"dataframe\">\n",
       "  <thead>\n",
       "    <tr style=\"text-align: right;\">\n",
       "      <th></th>\n",
       "      <th>time_week</th>\n",
       "      <th>value_week</th>\n",
       "      <th>date</th>\n",
       "      <th>weekly_date</th>\n",
       "      <th>value_sum_week</th>\n",
       "      <th>ratio_within_month</th>\n",
       "    </tr>\n",
       "  </thead>\n",
       "  <tbody>\n",
       "    <tr>\n",
       "      <th>0</th>\n",
       "      <td>1483228800</td>\n",
       "      <td>100</td>\n",
       "      <td>2017-01-01</td>\n",
       "      <td>2017-01-31</td>\n",
       "      <td>363</td>\n",
       "      <td>0.275482</td>\n",
       "    </tr>\n",
       "    <tr>\n",
       "      <th>1</th>\n",
       "      <td>1483833600</td>\n",
       "      <td>84</td>\n",
       "      <td>2017-01-08</td>\n",
       "      <td>2017-01-31</td>\n",
       "      <td>363</td>\n",
       "      <td>0.231405</td>\n",
       "    </tr>\n",
       "    <tr>\n",
       "      <th>2</th>\n",
       "      <td>1484438400</td>\n",
       "      <td>63</td>\n",
       "      <td>2017-01-15</td>\n",
       "      <td>2017-01-31</td>\n",
       "      <td>363</td>\n",
       "      <td>0.173554</td>\n",
       "    </tr>\n",
       "    <tr>\n",
       "      <th>3</th>\n",
       "      <td>1485043200</td>\n",
       "      <td>56</td>\n",
       "      <td>2017-01-22</td>\n",
       "      <td>2017-01-31</td>\n",
       "      <td>363</td>\n",
       "      <td>0.154270</td>\n",
       "    </tr>\n",
       "    <tr>\n",
       "      <th>4</th>\n",
       "      <td>1485648000</td>\n",
       "      <td>60</td>\n",
       "      <td>2017-01-29</td>\n",
       "      <td>2017-01-31</td>\n",
       "      <td>363</td>\n",
       "      <td>0.165289</td>\n",
       "    </tr>\n",
       "  </tbody>\n",
       "</table>\n",
       "</div>"
      ],
      "text/plain": [
       "    time_week  value_week       date weekly_date  value_sum_week  \\\n",
       "0  1483228800         100 2017-01-01  2017-01-31             363   \n",
       "1  1483833600          84 2017-01-08  2017-01-31             363   \n",
       "2  1484438400          63 2017-01-15  2017-01-31             363   \n",
       "3  1485043200          56 2017-01-22  2017-01-31             363   \n",
       "4  1485648000          60 2017-01-29  2017-01-31             363   \n",
       "\n",
       "   ratio_within_month  \n",
       "0            0.275482  \n",
       "1            0.231405  \n",
       "2            0.173554  \n",
       "3            0.154270  \n",
       "4            0.165289  "
      ]
     },
     "execution_count": 53,
     "metadata": {},
     "output_type": "execute_result"
    }
   ],
   "source": [
    "weekly_df.head()"
   ]
  },
  {
   "cell_type": "code",
   "execution_count": 54,
   "id": "2cfddb12",
   "metadata": {},
   "outputs": [],
   "source": [
    "# join monthly_raw with weekly_df based on year and month\n",
    "weekly = pd.merge(weekly_df.assign(grouper=weekly_df['date'].dt.to_period('M')), \n",
    "                 monthly_raw.assign(grouper=monthly_raw['date'].dt.to_period('M')),\n",
    "                 how ='left', on = 'grouper')"
   ]
  },
  {
   "cell_type": "code",
   "execution_count": 55,
   "id": "7936a7ab",
   "metadata": {},
   "outputs": [],
   "source": [
    "# get the real comparabel value for each week based on value_month and and ratio_within_month\n",
    "weekly['value_week_comparable'] = weekly['ratio_within_month'] * weekly['value_month']"
   ]
  },
  {
   "cell_type": "code",
   "execution_count": 56,
   "id": "f424a166",
   "metadata": {},
   "outputs": [
    {
     "data": {
      "text/html": [
       "<div>\n",
       "<style scoped>\n",
       "    .dataframe tbody tr th:only-of-type {\n",
       "        vertical-align: middle;\n",
       "    }\n",
       "\n",
       "    .dataframe tbody tr th {\n",
       "        vertical-align: top;\n",
       "    }\n",
       "\n",
       "    .dataframe thead th {\n",
       "        text-align: right;\n",
       "    }\n",
       "</style>\n",
       "<table border=\"1\" class=\"dataframe\">\n",
       "  <thead>\n",
       "    <tr style=\"text-align: right;\">\n",
       "      <th></th>\n",
       "      <th>time_week</th>\n",
       "      <th>value_week</th>\n",
       "      <th>date_x</th>\n",
       "      <th>weekly_date</th>\n",
       "      <th>value_sum_week</th>\n",
       "      <th>ratio_within_month</th>\n",
       "      <th>grouper</th>\n",
       "      <th>time_month</th>\n",
       "      <th>value_month</th>\n",
       "      <th>date_y</th>\n",
       "      <th>value_week_comparable</th>\n",
       "    </tr>\n",
       "  </thead>\n",
       "  <tbody>\n",
       "    <tr>\n",
       "      <th>0</th>\n",
       "      <td>1483228800</td>\n",
       "      <td>100</td>\n",
       "      <td>2017-01-01</td>\n",
       "      <td>2017-01-31</td>\n",
       "      <td>363</td>\n",
       "      <td>0.275482</td>\n",
       "      <td>2017-01</td>\n",
       "      <td>1483228800</td>\n",
       "      <td>6</td>\n",
       "      <td>2017-01-01</td>\n",
       "      <td>1.652893</td>\n",
       "    </tr>\n",
       "    <tr>\n",
       "      <th>1</th>\n",
       "      <td>1483833600</td>\n",
       "      <td>84</td>\n",
       "      <td>2017-01-08</td>\n",
       "      <td>2017-01-31</td>\n",
       "      <td>363</td>\n",
       "      <td>0.231405</td>\n",
       "      <td>2017-01</td>\n",
       "      <td>1483228800</td>\n",
       "      <td>6</td>\n",
       "      <td>2017-01-01</td>\n",
       "      <td>1.388430</td>\n",
       "    </tr>\n",
       "    <tr>\n",
       "      <th>2</th>\n",
       "      <td>1484438400</td>\n",
       "      <td>63</td>\n",
       "      <td>2017-01-15</td>\n",
       "      <td>2017-01-31</td>\n",
       "      <td>363</td>\n",
       "      <td>0.173554</td>\n",
       "      <td>2017-01</td>\n",
       "      <td>1483228800</td>\n",
       "      <td>6</td>\n",
       "      <td>2017-01-01</td>\n",
       "      <td>1.041322</td>\n",
       "    </tr>\n",
       "    <tr>\n",
       "      <th>3</th>\n",
       "      <td>1485043200</td>\n",
       "      <td>56</td>\n",
       "      <td>2017-01-22</td>\n",
       "      <td>2017-01-31</td>\n",
       "      <td>363</td>\n",
       "      <td>0.154270</td>\n",
       "      <td>2017-01</td>\n",
       "      <td>1483228800</td>\n",
       "      <td>6</td>\n",
       "      <td>2017-01-01</td>\n",
       "      <td>0.925620</td>\n",
       "    </tr>\n",
       "    <tr>\n",
       "      <th>4</th>\n",
       "      <td>1485648000</td>\n",
       "      <td>60</td>\n",
       "      <td>2017-01-29</td>\n",
       "      <td>2017-01-31</td>\n",
       "      <td>363</td>\n",
       "      <td>0.165289</td>\n",
       "      <td>2017-01</td>\n",
       "      <td>1483228800</td>\n",
       "      <td>6</td>\n",
       "      <td>2017-01-01</td>\n",
       "      <td>0.991736</td>\n",
       "    </tr>\n",
       "  </tbody>\n",
       "</table>\n",
       "</div>"
      ],
      "text/plain": [
       "    time_week  value_week     date_x weekly_date  value_sum_week  \\\n",
       "0  1483228800         100 2017-01-01  2017-01-31             363   \n",
       "1  1483833600          84 2017-01-08  2017-01-31             363   \n",
       "2  1484438400          63 2017-01-15  2017-01-31             363   \n",
       "3  1485043200          56 2017-01-22  2017-01-31             363   \n",
       "4  1485648000          60 2017-01-29  2017-01-31             363   \n",
       "\n",
       "   ratio_within_month  grouper  time_month  value_month     date_y  \\\n",
       "0            0.275482  2017-01  1483228800            6 2017-01-01   \n",
       "1            0.231405  2017-01  1483228800            6 2017-01-01   \n",
       "2            0.173554  2017-01  1483228800            6 2017-01-01   \n",
       "3            0.154270  2017-01  1483228800            6 2017-01-01   \n",
       "4            0.165289  2017-01  1483228800            6 2017-01-01   \n",
       "\n",
       "   value_week_comparable  \n",
       "0               1.652893  \n",
       "1               1.388430  \n",
       "2               1.041322  \n",
       "3               0.925620  \n",
       "4               0.991736  "
      ]
     },
     "execution_count": 56,
     "metadata": {},
     "output_type": "execute_result"
    }
   ],
   "source": [
    "weekly.head()"
   ]
  },
  {
   "cell_type": "markdown",
   "id": "0996eb78",
   "metadata": {},
   "source": [
    "## Step 2: hourly_raw : calculate value ration within each week using hourly_raw"
   ]
  },
  {
   "cell_type": "code",
   "execution_count": 58,
   "id": "cffbe770",
   "metadata": {},
   "outputs": [],
   "source": [
    "# get the total value within each week\n",
    "# Note: Here each week is start from Sunday but not Monday as default. \n",
    "\n",
    "# extract hourly_value and date from hourly_raw\n",
    "hourly_value = hourly_raw.value_hour\n",
    "hourly_value.index = hourly_raw.date"
   ]
  },
  {
   "cell_type": "code",
   "execution_count": 60,
   "id": "fabbcdee",
   "metadata": {},
   "outputs": [],
   "source": [
    "# get the total value within each week\n",
    "hourly_total = pd.DataFrame(hourly_value.resample('7D').sum()).reset_index() \n",
    "hourly_total.columns = ['hourly_date', 'value_sum_hour'] # rename columnns"
   ]
  },
  {
   "cell_type": "code",
   "execution_count": 62,
   "id": "c4383962",
   "metadata": {},
   "outputs": [
    {
     "data": {
      "text/html": [
       "<div>\n",
       "<style scoped>\n",
       "    .dataframe tbody tr th:only-of-type {\n",
       "        vertical-align: middle;\n",
       "    }\n",
       "\n",
       "    .dataframe tbody tr th {\n",
       "        vertical-align: top;\n",
       "    }\n",
       "\n",
       "    .dataframe thead th {\n",
       "        text-align: right;\n",
       "    }\n",
       "</style>\n",
       "<table border=\"1\" class=\"dataframe\">\n",
       "  <thead>\n",
       "    <tr style=\"text-align: right;\">\n",
       "      <th></th>\n",
       "      <th>hourly_date</th>\n",
       "      <th>value_sum_hour</th>\n",
       "    </tr>\n",
       "  </thead>\n",
       "  <tbody>\n",
       "    <tr>\n",
       "      <th>0</th>\n",
       "      <td>2017-01-01</td>\n",
       "      <td>10453</td>\n",
       "    </tr>\n",
       "    <tr>\n",
       "      <th>1</th>\n",
       "      <td>2017-01-08</td>\n",
       "      <td>10566</td>\n",
       "    </tr>\n",
       "    <tr>\n",
       "      <th>2</th>\n",
       "      <td>2017-01-15</td>\n",
       "      <td>11078</td>\n",
       "    </tr>\n",
       "    <tr>\n",
       "      <th>3</th>\n",
       "      <td>2017-01-22</td>\n",
       "      <td>11067</td>\n",
       "    </tr>\n",
       "    <tr>\n",
       "      <th>4</th>\n",
       "      <td>2017-01-29</td>\n",
       "      <td>10234</td>\n",
       "    </tr>\n",
       "  </tbody>\n",
       "</table>\n",
       "</div>"
      ],
      "text/plain": [
       "  hourly_date  value_sum_hour\n",
       "0  2017-01-01           10453\n",
       "1  2017-01-08           10566\n",
       "2  2017-01-15           11078\n",
       "3  2017-01-22           11067\n",
       "4  2017-01-29           10234"
      ]
     },
     "execution_count": 62,
     "metadata": {},
     "output_type": "execute_result"
    }
   ],
   "source": [
    "hourly_total.head() # hourly_date is the start date of that week"
   ]
  },
  {
   "cell_type": "code",
   "execution_count": 63,
   "id": "84a32d60",
   "metadata": {},
   "outputs": [],
   "source": [
    "# get the end_date of each week by shifting the hourly_date columns and the last missing value manually\n",
    "hourly_total['end_hourly_date'] = hourly_total['hourly_date'].shift(periods = -1).fillna('2022-08-28')\n",
    "hourly_total['end_hourly_date'] = pd.to_datetime(hourly_total['end_hourly_date'])"
   ]
  },
  {
   "cell_type": "code",
   "execution_count": 64,
   "id": "20353db4",
   "metadata": {},
   "outputs": [],
   "source": [
    "hourly_total.columns = ['start_hourly_date', 'value_sum_hour', 'end_hourly_date'] # rename columns"
   ]
  },
  {
   "cell_type": "code",
   "execution_count": 65,
   "id": "7432a71f",
   "metadata": {},
   "outputs": [
    {
     "data": {
      "text/html": [
       "<div>\n",
       "<style scoped>\n",
       "    .dataframe tbody tr th:only-of-type {\n",
       "        vertical-align: middle;\n",
       "    }\n",
       "\n",
       "    .dataframe tbody tr th {\n",
       "        vertical-align: top;\n",
       "    }\n",
       "\n",
       "    .dataframe thead th {\n",
       "        text-align: right;\n",
       "    }\n",
       "</style>\n",
       "<table border=\"1\" class=\"dataframe\">\n",
       "  <thead>\n",
       "    <tr style=\"text-align: right;\">\n",
       "      <th></th>\n",
       "      <th>start_hourly_date</th>\n",
       "      <th>value_sum_hour</th>\n",
       "      <th>end_hourly_date</th>\n",
       "    </tr>\n",
       "  </thead>\n",
       "  <tbody>\n",
       "    <tr>\n",
       "      <th>0</th>\n",
       "      <td>2017-01-01</td>\n",
       "      <td>10453</td>\n",
       "      <td>2017-01-08</td>\n",
       "    </tr>\n",
       "    <tr>\n",
       "      <th>1</th>\n",
       "      <td>2017-01-08</td>\n",
       "      <td>10566</td>\n",
       "      <td>2017-01-15</td>\n",
       "    </tr>\n",
       "    <tr>\n",
       "      <th>2</th>\n",
       "      <td>2017-01-15</td>\n",
       "      <td>11078</td>\n",
       "      <td>2017-01-22</td>\n",
       "    </tr>\n",
       "    <tr>\n",
       "      <th>3</th>\n",
       "      <td>2017-01-22</td>\n",
       "      <td>11067</td>\n",
       "      <td>2017-01-29</td>\n",
       "    </tr>\n",
       "    <tr>\n",
       "      <th>4</th>\n",
       "      <td>2017-01-29</td>\n",
       "      <td>10234</td>\n",
       "      <td>2017-02-05</td>\n",
       "    </tr>\n",
       "  </tbody>\n",
       "</table>\n",
       "</div>"
      ],
      "text/plain": [
       "  start_hourly_date  value_sum_hour end_hourly_date\n",
       "0        2017-01-01           10453      2017-01-08\n",
       "1        2017-01-08           10566      2017-01-15\n",
       "2        2017-01-15           11078      2017-01-22\n",
       "3        2017-01-22           11067      2017-01-29\n",
       "4        2017-01-29           10234      2017-02-05"
      ]
     },
     "execution_count": 65,
     "metadata": {},
     "output_type": "execute_result"
    }
   ],
   "source": [
    "hourly_total.head()"
   ]
  },
  {
   "cell_type": "code",
   "execution_count": 66,
   "id": "49f83cd2",
   "metadata": {},
   "outputs": [],
   "source": [
    "# merge hourly_total with hourly_raw if hourly_date in between week's start and end date\n",
    "hourly_merge = hourly_total.merge(hourly_raw, how='cross')"
   ]
  },
  {
   "cell_type": "code",
   "execution_count": 68,
   "id": "75008b92",
   "metadata": {},
   "outputs": [
    {
     "data": {
      "text/html": [
       "<div>\n",
       "<style scoped>\n",
       "    .dataframe tbody tr th:only-of-type {\n",
       "        vertical-align: middle;\n",
       "    }\n",
       "\n",
       "    .dataframe tbody tr th {\n",
       "        vertical-align: top;\n",
       "    }\n",
       "\n",
       "    .dataframe thead th {\n",
       "        text-align: right;\n",
       "    }\n",
       "</style>\n",
       "<table border=\"1\" class=\"dataframe\">\n",
       "  <thead>\n",
       "    <tr style=\"text-align: right;\">\n",
       "      <th></th>\n",
       "      <th>start_hourly_date</th>\n",
       "      <th>value_sum_hour</th>\n",
       "      <th>end_hourly_date</th>\n",
       "      <th>time_hour</th>\n",
       "      <th>value_hour</th>\n",
       "      <th>date</th>\n",
       "    </tr>\n",
       "  </thead>\n",
       "  <tbody>\n",
       "    <tr>\n",
       "      <th>0</th>\n",
       "      <td>2017-01-01</td>\n",
       "      <td>10453</td>\n",
       "      <td>2017-01-08</td>\n",
       "      <td>1483228800</td>\n",
       "      <td>30</td>\n",
       "      <td>2017-01-01 00:00:00</td>\n",
       "    </tr>\n",
       "    <tr>\n",
       "      <th>1</th>\n",
       "      <td>2017-01-01</td>\n",
       "      <td>10453</td>\n",
       "      <td>2017-01-08</td>\n",
       "      <td>1483232400</td>\n",
       "      <td>34</td>\n",
       "      <td>2017-01-01 01:00:00</td>\n",
       "    </tr>\n",
       "    <tr>\n",
       "      <th>2</th>\n",
       "      <td>2017-01-01</td>\n",
       "      <td>10453</td>\n",
       "      <td>2017-01-08</td>\n",
       "      <td>1483236000</td>\n",
       "      <td>33</td>\n",
       "      <td>2017-01-01 02:00:00</td>\n",
       "    </tr>\n",
       "    <tr>\n",
       "      <th>3</th>\n",
       "      <td>2017-01-01</td>\n",
       "      <td>10453</td>\n",
       "      <td>2017-01-08</td>\n",
       "      <td>1483239600</td>\n",
       "      <td>43</td>\n",
       "      <td>2017-01-01 03:00:00</td>\n",
       "    </tr>\n",
       "    <tr>\n",
       "      <th>4</th>\n",
       "      <td>2017-01-01</td>\n",
       "      <td>10453</td>\n",
       "      <td>2017-01-08</td>\n",
       "      <td>1483243200</td>\n",
       "      <td>32</td>\n",
       "      <td>2017-01-01 04:00:00</td>\n",
       "    </tr>\n",
       "    <tr>\n",
       "      <th>...</th>\n",
       "      <td>...</td>\n",
       "      <td>...</td>\n",
       "      <td>...</td>\n",
       "      <td>...</td>\n",
       "      <td>...</td>\n",
       "      <td>...</td>\n",
       "    </tr>\n",
       "    <tr>\n",
       "      <th>14596595</th>\n",
       "      <td>2022-08-21</td>\n",
       "      <td>8605</td>\n",
       "      <td>2022-08-28</td>\n",
       "      <td>1661378400</td>\n",
       "      <td>90</td>\n",
       "      <td>2022-08-24 22:00:00</td>\n",
       "    </tr>\n",
       "    <tr>\n",
       "      <th>14596596</th>\n",
       "      <td>2022-08-21</td>\n",
       "      <td>8605</td>\n",
       "      <td>2022-08-28</td>\n",
       "      <td>1661382000</td>\n",
       "      <td>81</td>\n",
       "      <td>2022-08-24 23:00:00</td>\n",
       "    </tr>\n",
       "    <tr>\n",
       "      <th>14596597</th>\n",
       "      <td>2022-08-21</td>\n",
       "      <td>8605</td>\n",
       "      <td>2022-08-28</td>\n",
       "      <td>1661385600</td>\n",
       "      <td>77</td>\n",
       "      <td>2022-08-25 00:00:00</td>\n",
       "    </tr>\n",
       "    <tr>\n",
       "      <th>14596598</th>\n",
       "      <td>2022-08-21</td>\n",
       "      <td>8605</td>\n",
       "      <td>2022-08-28</td>\n",
       "      <td>1661389200</td>\n",
       "      <td>75</td>\n",
       "      <td>2022-08-25 01:00:00</td>\n",
       "    </tr>\n",
       "    <tr>\n",
       "      <th>14596599</th>\n",
       "      <td>2022-08-21</td>\n",
       "      <td>8605</td>\n",
       "      <td>2022-08-28</td>\n",
       "      <td>1661392800</td>\n",
       "      <td>74</td>\n",
       "      <td>2022-08-25 02:00:00</td>\n",
       "    </tr>\n",
       "  </tbody>\n",
       "</table>\n",
       "<p>14596600 rows × 6 columns</p>\n",
       "</div>"
      ],
      "text/plain": [
       "         start_hourly_date  value_sum_hour end_hourly_date   time_hour  \\\n",
       "0               2017-01-01           10453      2017-01-08  1483228800   \n",
       "1               2017-01-01           10453      2017-01-08  1483232400   \n",
       "2               2017-01-01           10453      2017-01-08  1483236000   \n",
       "3               2017-01-01           10453      2017-01-08  1483239600   \n",
       "4               2017-01-01           10453      2017-01-08  1483243200   \n",
       "...                    ...             ...             ...         ...   \n",
       "14596595        2022-08-21            8605      2022-08-28  1661378400   \n",
       "14596596        2022-08-21            8605      2022-08-28  1661382000   \n",
       "14596597        2022-08-21            8605      2022-08-28  1661385600   \n",
       "14596598        2022-08-21            8605      2022-08-28  1661389200   \n",
       "14596599        2022-08-21            8605      2022-08-28  1661392800   \n",
       "\n",
       "          value_hour                date  \n",
       "0                 30 2017-01-01 00:00:00  \n",
       "1                 34 2017-01-01 01:00:00  \n",
       "2                 33 2017-01-01 02:00:00  \n",
       "3                 43 2017-01-01 03:00:00  \n",
       "4                 32 2017-01-01 04:00:00  \n",
       "...              ...                 ...  \n",
       "14596595          90 2022-08-24 22:00:00  \n",
       "14596596          81 2022-08-24 23:00:00  \n",
       "14596597          77 2022-08-25 00:00:00  \n",
       "14596598          75 2022-08-25 01:00:00  \n",
       "14596599          74 2022-08-25 02:00:00  \n",
       "\n",
       "[14596600 rows x 6 columns]"
      ]
     },
     "execution_count": 68,
     "metadata": {},
     "output_type": "execute_result"
    }
   ],
   "source": [
    "hourly_merge"
   ]
  },
  {
   "cell_type": "code",
   "execution_count": 70,
   "id": "9fa24492",
   "metadata": {},
   "outputs": [],
   "source": [
    "# filter out records that don't meet the hourly_date is between start_hourly_date and end_hourly_date\n",
    "hourly_merge = hourly_merge.query('date >= start_hourly_date and date < end_hourly_date')"
   ]
  },
  {
   "cell_type": "code",
   "execution_count": 73,
   "id": "4476b054",
   "metadata": {},
   "outputs": [
    {
     "data": {
      "text/plain": [
       "(49480, 6)"
      ]
     },
     "execution_count": 73,
     "metadata": {},
     "output_type": "execute_result"
    }
   ],
   "source": [
    "hourly_merge.shape"
   ]
  },
  {
   "cell_type": "code",
   "execution_count": 74,
   "id": "05a9b66c",
   "metadata": {},
   "outputs": [],
   "source": [
    "# get the ratio of each hour within each week\n",
    "hourly_merge['ratio_within_week'] = hourly_merge['value_hour']/hourly_merge['value_sum_hour']"
   ]
  },
  {
   "cell_type": "markdown",
   "id": "dab6c194",
   "metadata": {},
   "source": [
    "## Step 3: join weekly with hourly_merge to get the final comparable hourly values"
   ]
  },
  {
   "cell_type": "code",
   "execution_count": 77,
   "id": "2c934407",
   "metadata": {},
   "outputs": [
    {
     "data": {
      "text/html": [
       "<div>\n",
       "<style scoped>\n",
       "    .dataframe tbody tr th:only-of-type {\n",
       "        vertical-align: middle;\n",
       "    }\n",
       "\n",
       "    .dataframe tbody tr th {\n",
       "        vertical-align: top;\n",
       "    }\n",
       "\n",
       "    .dataframe thead th {\n",
       "        text-align: right;\n",
       "    }\n",
       "</style>\n",
       "<table border=\"1\" class=\"dataframe\">\n",
       "  <thead>\n",
       "    <tr style=\"text-align: right;\">\n",
       "      <th></th>\n",
       "      <th>time_week</th>\n",
       "      <th>value_week</th>\n",
       "      <th>date_x</th>\n",
       "      <th>weekly_date</th>\n",
       "      <th>value_sum_week</th>\n",
       "      <th>ratio_within_month</th>\n",
       "      <th>grouper</th>\n",
       "      <th>time_month</th>\n",
       "      <th>value_month</th>\n",
       "      <th>date_y</th>\n",
       "      <th>value_week_comparable</th>\n",
       "    </tr>\n",
       "  </thead>\n",
       "  <tbody>\n",
       "    <tr>\n",
       "      <th>0</th>\n",
       "      <td>1483228800</td>\n",
       "      <td>100</td>\n",
       "      <td>2017-01-01</td>\n",
       "      <td>2017-01-31</td>\n",
       "      <td>363</td>\n",
       "      <td>0.275482</td>\n",
       "      <td>2017-01</td>\n",
       "      <td>1483228800</td>\n",
       "      <td>6</td>\n",
       "      <td>2017-01-01</td>\n",
       "      <td>1.652893</td>\n",
       "    </tr>\n",
       "    <tr>\n",
       "      <th>1</th>\n",
       "      <td>1483833600</td>\n",
       "      <td>84</td>\n",
       "      <td>2017-01-08</td>\n",
       "      <td>2017-01-31</td>\n",
       "      <td>363</td>\n",
       "      <td>0.231405</td>\n",
       "      <td>2017-01</td>\n",
       "      <td>1483228800</td>\n",
       "      <td>6</td>\n",
       "      <td>2017-01-01</td>\n",
       "      <td>1.388430</td>\n",
       "    </tr>\n",
       "    <tr>\n",
       "      <th>2</th>\n",
       "      <td>1484438400</td>\n",
       "      <td>63</td>\n",
       "      <td>2017-01-15</td>\n",
       "      <td>2017-01-31</td>\n",
       "      <td>363</td>\n",
       "      <td>0.173554</td>\n",
       "      <td>2017-01</td>\n",
       "      <td>1483228800</td>\n",
       "      <td>6</td>\n",
       "      <td>2017-01-01</td>\n",
       "      <td>1.041322</td>\n",
       "    </tr>\n",
       "    <tr>\n",
       "      <th>3</th>\n",
       "      <td>1485043200</td>\n",
       "      <td>56</td>\n",
       "      <td>2017-01-22</td>\n",
       "      <td>2017-01-31</td>\n",
       "      <td>363</td>\n",
       "      <td>0.154270</td>\n",
       "      <td>2017-01</td>\n",
       "      <td>1483228800</td>\n",
       "      <td>6</td>\n",
       "      <td>2017-01-01</td>\n",
       "      <td>0.925620</td>\n",
       "    </tr>\n",
       "    <tr>\n",
       "      <th>4</th>\n",
       "      <td>1485648000</td>\n",
       "      <td>60</td>\n",
       "      <td>2017-01-29</td>\n",
       "      <td>2017-01-31</td>\n",
       "      <td>363</td>\n",
       "      <td>0.165289</td>\n",
       "      <td>2017-01</td>\n",
       "      <td>1483228800</td>\n",
       "      <td>6</td>\n",
       "      <td>2017-01-01</td>\n",
       "      <td>0.991736</td>\n",
       "    </tr>\n",
       "  </tbody>\n",
       "</table>\n",
       "</div>"
      ],
      "text/plain": [
       "    time_week  value_week     date_x weekly_date  value_sum_week  \\\n",
       "0  1483228800         100 2017-01-01  2017-01-31             363   \n",
       "1  1483833600          84 2017-01-08  2017-01-31             363   \n",
       "2  1484438400          63 2017-01-15  2017-01-31             363   \n",
       "3  1485043200          56 2017-01-22  2017-01-31             363   \n",
       "4  1485648000          60 2017-01-29  2017-01-31             363   \n",
       "\n",
       "   ratio_within_month  grouper  time_month  value_month     date_y  \\\n",
       "0            0.275482  2017-01  1483228800            6 2017-01-01   \n",
       "1            0.231405  2017-01  1483228800            6 2017-01-01   \n",
       "2            0.173554  2017-01  1483228800            6 2017-01-01   \n",
       "3            0.154270  2017-01  1483228800            6 2017-01-01   \n",
       "4            0.165289  2017-01  1483228800            6 2017-01-01   \n",
       "\n",
       "   value_week_comparable  \n",
       "0               1.652893  \n",
       "1               1.388430  \n",
       "2               1.041322  \n",
       "3               0.925620  \n",
       "4               0.991736  "
      ]
     },
     "execution_count": 77,
     "metadata": {},
     "output_type": "execute_result"
    }
   ],
   "source": [
    "weekly.head()"
   ]
  },
  {
   "cell_type": "code",
   "execution_count": 78,
   "id": "23ae9804",
   "metadata": {},
   "outputs": [],
   "source": [
    "# subset of weekly\n",
    "weekly_new = weekly.loc[:, ['date_x', 'value_week_comparable']]"
   ]
  },
  {
   "cell_type": "code",
   "execution_count": 79,
   "id": "a98fd576",
   "metadata": {},
   "outputs": [],
   "source": [
    "weekly_new.columns = ['start_hourly_date', 'value_week_comparable'] # rename columns"
   ]
  },
  {
   "cell_type": "code",
   "execution_count": 80,
   "id": "1ae6c55b",
   "metadata": {},
   "outputs": [],
   "source": [
    "# merge hourly_merge and weekly \n",
    "hourly = pd.merge(hourly_merge, weekly_new, on = 'start_hourly_date')"
   ]
  },
  {
   "cell_type": "code",
   "execution_count": 82,
   "id": "d0392061",
   "metadata": {},
   "outputs": [
    {
     "data": {
      "text/html": [
       "<div>\n",
       "<style scoped>\n",
       "    .dataframe tbody tr th:only-of-type {\n",
       "        vertical-align: middle;\n",
       "    }\n",
       "\n",
       "    .dataframe tbody tr th {\n",
       "        vertical-align: top;\n",
       "    }\n",
       "\n",
       "    .dataframe thead th {\n",
       "        text-align: right;\n",
       "    }\n",
       "</style>\n",
       "<table border=\"1\" class=\"dataframe\">\n",
       "  <thead>\n",
       "    <tr style=\"text-align: right;\">\n",
       "      <th></th>\n",
       "      <th>start_hourly_date</th>\n",
       "      <th>value_sum_hour</th>\n",
       "      <th>end_hourly_date</th>\n",
       "      <th>time_hour</th>\n",
       "      <th>value_hour</th>\n",
       "      <th>date</th>\n",
       "      <th>ratio_within_week</th>\n",
       "      <th>value_week_comparable</th>\n",
       "    </tr>\n",
       "  </thead>\n",
       "  <tbody>\n",
       "    <tr>\n",
       "      <th>0</th>\n",
       "      <td>2017-01-01</td>\n",
       "      <td>10453</td>\n",
       "      <td>2017-01-08</td>\n",
       "      <td>1483228800</td>\n",
       "      <td>30</td>\n",
       "      <td>2017-01-01 00:00:00</td>\n",
       "      <td>0.002870</td>\n",
       "      <td>1.652893</td>\n",
       "    </tr>\n",
       "    <tr>\n",
       "      <th>1</th>\n",
       "      <td>2017-01-01</td>\n",
       "      <td>10453</td>\n",
       "      <td>2017-01-08</td>\n",
       "      <td>1483232400</td>\n",
       "      <td>34</td>\n",
       "      <td>2017-01-01 01:00:00</td>\n",
       "      <td>0.003253</td>\n",
       "      <td>1.652893</td>\n",
       "    </tr>\n",
       "    <tr>\n",
       "      <th>2</th>\n",
       "      <td>2017-01-01</td>\n",
       "      <td>10453</td>\n",
       "      <td>2017-01-08</td>\n",
       "      <td>1483236000</td>\n",
       "      <td>33</td>\n",
       "      <td>2017-01-01 02:00:00</td>\n",
       "      <td>0.003157</td>\n",
       "      <td>1.652893</td>\n",
       "    </tr>\n",
       "    <tr>\n",
       "      <th>3</th>\n",
       "      <td>2017-01-01</td>\n",
       "      <td>10453</td>\n",
       "      <td>2017-01-08</td>\n",
       "      <td>1483239600</td>\n",
       "      <td>43</td>\n",
       "      <td>2017-01-01 03:00:00</td>\n",
       "      <td>0.004114</td>\n",
       "      <td>1.652893</td>\n",
       "    </tr>\n",
       "    <tr>\n",
       "      <th>4</th>\n",
       "      <td>2017-01-01</td>\n",
       "      <td>10453</td>\n",
       "      <td>2017-01-08</td>\n",
       "      <td>1483243200</td>\n",
       "      <td>32</td>\n",
       "      <td>2017-01-01 04:00:00</td>\n",
       "      <td>0.003061</td>\n",
       "      <td>1.652893</td>\n",
       "    </tr>\n",
       "  </tbody>\n",
       "</table>\n",
       "</div>"
      ],
      "text/plain": [
       "  start_hourly_date  value_sum_hour end_hourly_date   time_hour  value_hour  \\\n",
       "0        2017-01-01           10453      2017-01-08  1483228800          30   \n",
       "1        2017-01-01           10453      2017-01-08  1483232400          34   \n",
       "2        2017-01-01           10453      2017-01-08  1483236000          33   \n",
       "3        2017-01-01           10453      2017-01-08  1483239600          43   \n",
       "4        2017-01-01           10453      2017-01-08  1483243200          32   \n",
       "\n",
       "                 date  ratio_within_week  value_week_comparable  \n",
       "0 2017-01-01 00:00:00           0.002870               1.652893  \n",
       "1 2017-01-01 01:00:00           0.003253               1.652893  \n",
       "2 2017-01-01 02:00:00           0.003157               1.652893  \n",
       "3 2017-01-01 03:00:00           0.004114               1.652893  \n",
       "4 2017-01-01 04:00:00           0.003061               1.652893  "
      ]
     },
     "execution_count": 82,
     "metadata": {},
     "output_type": "execute_result"
    }
   ],
   "source": [
    "hourly.head()"
   ]
  },
  {
   "cell_type": "code",
   "execution_count": 83,
   "id": "f65bf76d",
   "metadata": {},
   "outputs": [],
   "source": [
    "# get the comparable values in each hour\n",
    "hourly['value_hourly_comparable'] = hourly['value_week_comparable'] * hourly['ratio_within_week']"
   ]
  },
  {
   "cell_type": "code",
   "execution_count": 98,
   "id": "07a7fb30",
   "metadata": {},
   "outputs": [],
   "source": [
    "# extract useful columns from hourly as final result\n",
    "final_hourly = hourly.loc[:, ['date', 'value_hourly_comparable']]\n",
    "final_hourly['time_hour'] = hourly_raw.time_hour"
   ]
  },
  {
   "cell_type": "markdown",
   "id": "f0ed93ec",
   "metadata": {},
   "source": [
    "# Here is the final result"
   ]
  },
  {
   "cell_type": "code",
   "execution_count": 99,
   "id": "2ee760ff",
   "metadata": {},
   "outputs": [
    {
     "data": {
      "text/html": [
       "<div>\n",
       "<style scoped>\n",
       "    .dataframe tbody tr th:only-of-type {\n",
       "        vertical-align: middle;\n",
       "    }\n",
       "\n",
       "    .dataframe tbody tr th {\n",
       "        vertical-align: top;\n",
       "    }\n",
       "\n",
       "    .dataframe thead th {\n",
       "        text-align: right;\n",
       "    }\n",
       "</style>\n",
       "<table border=\"1\" class=\"dataframe\">\n",
       "  <thead>\n",
       "    <tr style=\"text-align: right;\">\n",
       "      <th></th>\n",
       "      <th>date</th>\n",
       "      <th>value_hourly_comparable</th>\n",
       "      <th>time_hour</th>\n",
       "    </tr>\n",
       "  </thead>\n",
       "  <tbody>\n",
       "    <tr>\n",
       "      <th>0</th>\n",
       "      <td>2017-01-01 00:00:00</td>\n",
       "      <td>0.004744</td>\n",
       "      <td>1483228800</td>\n",
       "    </tr>\n",
       "    <tr>\n",
       "      <th>1</th>\n",
       "      <td>2017-01-01 01:00:00</td>\n",
       "      <td>0.005376</td>\n",
       "      <td>1483232400</td>\n",
       "    </tr>\n",
       "    <tr>\n",
       "      <th>2</th>\n",
       "      <td>2017-01-01 02:00:00</td>\n",
       "      <td>0.005218</td>\n",
       "      <td>1483236000</td>\n",
       "    </tr>\n",
       "    <tr>\n",
       "      <th>3</th>\n",
       "      <td>2017-01-01 03:00:00</td>\n",
       "      <td>0.006799</td>\n",
       "      <td>1483239600</td>\n",
       "    </tr>\n",
       "    <tr>\n",
       "      <th>4</th>\n",
       "      <td>2017-01-01 04:00:00</td>\n",
       "      <td>0.005060</td>\n",
       "      <td>1483243200</td>\n",
       "    </tr>\n",
       "    <tr>\n",
       "      <th>...</th>\n",
       "      <td>...</td>\n",
       "      <td>...</td>\n",
       "      <td>...</td>\n",
       "    </tr>\n",
       "    <tr>\n",
       "      <th>49475</th>\n",
       "      <td>2022-08-24 22:00:00</td>\n",
       "      <td>0.075326</td>\n",
       "      <td>1661378400</td>\n",
       "    </tr>\n",
       "    <tr>\n",
       "      <th>49476</th>\n",
       "      <td>2022-08-24 23:00:00</td>\n",
       "      <td>0.067794</td>\n",
       "      <td>1661382000</td>\n",
       "    </tr>\n",
       "    <tr>\n",
       "      <th>49477</th>\n",
       "      <td>2022-08-25 00:00:00</td>\n",
       "      <td>0.064446</td>\n",
       "      <td>1661385600</td>\n",
       "    </tr>\n",
       "    <tr>\n",
       "      <th>49478</th>\n",
       "      <td>2022-08-25 01:00:00</td>\n",
       "      <td>0.062772</td>\n",
       "      <td>1661389200</td>\n",
       "    </tr>\n",
       "    <tr>\n",
       "      <th>49479</th>\n",
       "      <td>2022-08-25 02:00:00</td>\n",
       "      <td>0.061935</td>\n",
       "      <td>1661392800</td>\n",
       "    </tr>\n",
       "  </tbody>\n",
       "</table>\n",
       "<p>49480 rows × 3 columns</p>\n",
       "</div>"
      ],
      "text/plain": [
       "                     date  value_hourly_comparable   time_hour\n",
       "0     2017-01-01 00:00:00                 0.004744  1483228800\n",
       "1     2017-01-01 01:00:00                 0.005376  1483232400\n",
       "2     2017-01-01 02:00:00                 0.005218  1483236000\n",
       "3     2017-01-01 03:00:00                 0.006799  1483239600\n",
       "4     2017-01-01 04:00:00                 0.005060  1483243200\n",
       "...                   ...                      ...         ...\n",
       "49475 2022-08-24 22:00:00                 0.075326  1661378400\n",
       "49476 2022-08-24 23:00:00                 0.067794  1661382000\n",
       "49477 2022-08-25 00:00:00                 0.064446  1661385600\n",
       "49478 2022-08-25 01:00:00                 0.062772  1661389200\n",
       "49479 2022-08-25 02:00:00                 0.061935  1661392800\n",
       "\n",
       "[49480 rows x 3 columns]"
      ]
     },
     "execution_count": 99,
     "metadata": {},
     "output_type": "execute_result"
    }
   ],
   "source": [
    "final_hourly ## this is the final result"
   ]
  },
  {
   "cell_type": "code",
   "execution_count": 101,
   "id": "c1d5c3ca",
   "metadata": {},
   "outputs": [],
   "source": [
    "# save the dataframe as 'hourly_result.csv'\n",
    "final_hourly.to_csv('hourly_result.csv')"
   ]
  },
  {
   "cell_type": "markdown",
   "id": "91ab433e",
   "metadata": {},
   "source": [
    "### Summary: the 'value_hourly_comparable' and 'date' column in final_hourly dataframe are the comparable hourly values that are needed. "
   ]
  },
  {
   "cell_type": "code",
   "execution_count": 100,
   "id": "f7683bab",
   "metadata": {},
   "outputs": [
    {
     "data": {
      "text/plain": [
       "<AxesSubplot:title={'center':'Hourly values'}, xlabel='date', ylabel='Hourly values'>"
      ]
     },
     "execution_count": 100,
     "metadata": {},
     "output_type": "execute_result"
    },
    {
     "data": {
      "image/png": "[encoded data removed]",
      "text/plain": [
       "<Figure size 432x288 with 1 Axes>"
      ]
     },
     "metadata": {
      "needs_background": "light"
     },
     "output_type": "display_data"
    }
   ],
   "source": [
    "# visualize hourly values\n",
    "hourly_value = final_hourly.value_hourly_comparable\n",
    "hourly_value.index = final_hourly.date\n",
    "\n",
    "hourly_value.plot(title='Hourly values', ylabel='Hourly values')"
   ]
  },
  {
   "cell_type": "code",
   "execution_count": null,
   "id": "6c02bdef",
   "metadata": {},
   "outputs": [],
   "source": []
  }
 ],
 "metadata": {
  "kernelspec": {
   "display_name": "Python 3 (ipykernel)",
   "language": "python",
   "name": "python3"
  },
  "language_info": {
   "codemirror_mode": {
    "name": "ipython",
    "version": 3
   },
   "file_extension": ".py",
   "mimetype": "text/x-python",
   "name": "python",
   "nbconvert_exporter": "python",
   "pygments_lexer": "ipython3",
   "version": "3.10.4"
  }
 },
 "nbformat": 4,
 "nbformat_minor": 5
}
